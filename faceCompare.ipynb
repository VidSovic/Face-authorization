{
 "cells": [
  {
   "cell_type": "code",
   "execution_count": 16,
   "metadata": {},
   "outputs": [
    {
     "output_type": "stream",
     "name": "stdout",
     "text": "Method: 0 Perfect, Base-Half, Base-Test(1): 1.0  -   -  1.0 /\nMethod: 1 Perfect, Base-Half, Base-Test(1): 0.0  -   -  0.0 /\nMethod: 2 Perfect, Base-Half, Base-Test(1): 61.85050543199395  -   -  61.85050543199395 /\nMethod: 3 Perfect, Base-Half, Base-Test(1): 1.0536712127723509e-08  -   -  1.0536712127723509e-08 /\n"
    }
   ],
   "source": [
    "import cv2 as cv\n",
    "import numpy as np\n",
    "\n",
    "#Nalozimo slike\n",
    "src_base = cv.imread(\"mojObraz.jpg\")\n",
    "src_test1 = cv.imread(\"mojObraz.jpg\")\n",
    "\n",
    "if src_base is None or src_test1 is None:\n",
    "    print('Could not open or find the images!')\n",
    "    exit(0)\n",
    "\n",
    "#Pretvorimo v hsv format\n",
    "hsv_base = cv.cvtColor(src_base, cv.COLOR_BGR2HSV)\n",
    "hsv_test1 = cv.cvtColor(src_test1, cv.COLOR_BGR2HSV)\n",
    "\n",
    "\n",
    "hist_base = cv.calcHist([hsv_base], channels, None, histSize, ranges, accumulate=False)\n",
    "cv.normalize(hist_base, hist_base, alpha=0, beta=1, norm_type=cv.NORM_MINMAX)\n",
    "hist_test1 = cv.calcHist([hsv_test1], channels, None, histSize, ranges, accumulate=False)\n",
    "cv.normalize(hist_test1, hist_test1, alpha=0, beta=1, norm_type=cv.NORM_MINMAX)\n",
    "\n",
    "for compare_method in range(4):\n",
    "    base_base = cv.compareHist(hist_base, hist_base, compare_method)\n",
    "    base_test1 = cv.compareHist(hist_base, hist_test1, compare_method)\n",
    "    print('Method:', compare_method, 'Perfect, Base-Half, Base-Test(1):',\\\n",
    "          base_base, ' - ', ' - ', base_test1, '/')\n"
   ]
  },
  {
   "cell_type": "code",
   "execution_count": null,
   "metadata": {},
   "outputs": [],
   "source": []
  }
 ],
 "metadata": {
  "language_info": {
   "codemirror_mode": {
    "name": "ipython",
    "version": 3
   },
   "file_extension": ".py",
   "mimetype": "text/x-python",
   "name": "python",
   "nbconvert_exporter": "python",
   "pygments_lexer": "ipython3",
   "version": "3.8.2-final"
  },
  "orig_nbformat": 2,
  "kernelspec": {
   "name": "python38232bit1c344d03c2d94f18ab9bca6f33daaa1e",
   "display_name": "Python 3.8.2 32-bit"
  }
 },
 "nbformat": 4,
 "nbformat_minor": 2
}